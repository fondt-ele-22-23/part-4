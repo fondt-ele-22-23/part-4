{
 "cells": [
  {
   "cell_type": "markdown",
   "metadata": {
    "slideshow": {
     "slide_type": "subslide"
    }
   },
   "source": [
    "## Esempio: Somma di Elementi\n",
    "\n",
    "**Si scriva un programma che calcoli la somma degli elementi in una lista**\n",
    "\n",
    "* Il codice deve essere contenuto in un'unica cella\n",
    "* Python permette di calcolare lo stesso risultato\n",
    "* ...Con la funzione `sum(<iterabile>)`\n",
    "* La funzione `sum` può essere utilizzata per verificare la correttezza del risultato"
   ]
  },
  {
   "cell_type": "markdown",
   "metadata": {
    "slideshow": {
     "slide_type": "subslide"
    }
   },
   "source": [
    "## Esempio: Somma di Elementi\n",
    "\n",
    "**Di seguito una possibile soluzione**"
   ]
  },
  {
   "cell_type": "code",
   "execution_count": 1,
   "metadata": {},
   "outputs": [
    {
     "name": "stdout",
     "output_type": "stream",
     "text": [
      "La somma degli elementi è: 67\n",
      "La funzione sum restituisce: 67\n"
     ]
    }
   ],
   "source": [
    "l = [3, 16, 33, -8, 3, 9, 11, 0] # ingresso\n",
    "\n",
    "s = 0 # valore di partenza per la somma\n",
    "for v in l:\n",
    "    s += v\n",
    "\n",
    "print(f'La somma degli elementi è: {s}')\n",
    "print(f'La funzione sum restituisce: {sum(l)}')"
   ]
  }
 ],
 "metadata": {
  "celltoolbar": "Slideshow",
  "kernelspec": {
   "display_name": "Python 3 (ipykernel)",
   "language": "python",
   "name": "python3"
  },
  "language_info": {
   "codemirror_mode": {
    "name": "ipython",
    "version": 3
   },
   "file_extension": ".py",
   "mimetype": "text/x-python",
   "name": "python",
   "nbconvert_exporter": "python",
   "pygments_lexer": "ipython3",
   "version": "3.9.5"
  },
  "rise": {
   "center": false,
   "enable_chalkboard": true,
   "transition": "fade"
  }
 },
 "nbformat": 4,
 "nbformat_minor": 4
}
