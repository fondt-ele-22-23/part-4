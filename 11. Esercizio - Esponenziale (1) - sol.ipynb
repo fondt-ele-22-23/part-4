{
 "cells": [
  {
   "cell_type": "markdown",
   "metadata": {
    "slideshow": {
     "slide_type": "subslide"
    }
   },
   "source": [
    "## Esercizio: Esponenziale (1)\n",
    "\n",
    "**Si scriva un programma che approssimi il valore $e^x$**\n",
    "\n",
    "...Usando il suo sviluppo in serie di Taylor _troncata_:\n",
    "\n",
    "$$\n",
    "e^x \\simeq \\sum_{n = 0}^m \\frac{x^n}{n!}\n",
    "$$\n",
    "\n",
    "* Si noti che la serie è troncata quando $n$ raggiunge il valore $m$\n",
    "* Il codice deve essere contenuto in un'unica cella\n",
    "* Si effettuino esperimenti con diversi valori di $x$ ed $m$\n",
    "* Per facilitare la verifica, si tenga presente che:\n",
    "\n",
    "$$\n",
    "e^2 \\simeq 7.389 \\quad e^3 \\simeq 20.086 \\quad e^4 \\simeq 54.598\n",
    "$$"
   ]
  },
  {
   "cell_type": "markdown",
   "metadata": {
    "slideshow": {
     "slide_type": "subslide"
    }
   },
   "source": [
    "## Esercizio: Esponenziale (1)\n",
    "\n",
    "**Di seguito una possibile soluzione**"
   ]
  },
  {
   "cell_type": "code",
   "execution_count": 16,
   "metadata": {},
   "outputs": [
    {
     "name": "stdout",
     "output_type": "stream",
     "text": [
      "e^2.000 ~= 7.389\n"
     ]
    }
   ],
   "source": [
    "x = 2 # ingresso\n",
    "m = 15\n",
    "\n",
    "res = 0 # valore di partenza per la somma\n",
    "for n in range(m+1):\n",
    "    # calcolo del fattoriale\n",
    "    nfact = 1\n",
    "    for v in range(1, n+1):\n",
    "        nfact *= v\n",
    "    # aggiorno res\n",
    "    res += x**n / nfact\n",
    "    \n",
    "print(f'e^{x:.3f} ~= {res:.3f}')"
   ]
  }
 ],
 "metadata": {
  "celltoolbar": "Slideshow",
  "kernelspec": {
   "display_name": "Python 3 (ipykernel)",
   "language": "python",
   "name": "python3"
  },
  "language_info": {
   "codemirror_mode": {
    "name": "ipython",
    "version": 3
   },
   "file_extension": ".py",
   "mimetype": "text/x-python",
   "name": "python",
   "nbconvert_exporter": "python",
   "pygments_lexer": "ipython3",
   "version": "3.9.5"
  },
  "rise": {
   "center": false,
   "enable_chalkboard": true,
   "transition": "fade"
  }
 },
 "nbformat": 4,
 "nbformat_minor": 4
}
